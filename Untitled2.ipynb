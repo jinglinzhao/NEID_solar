{
 "cells": [
  {
   "cell_type": "code",
   "execution_count": 2,
   "metadata": {},
   "outputs": [],
   "source": [
    "import numpy as np\n",
    "import os\n",
    "import glob\n",
    "import pandas as pd\n",
    "from astropy.io import fits\n",
    "from datetime import timedelta, date\n",
    "from datetime import datetime\n",
    "from alive_progress import alive_bar\n",
    "import matplotlib.pyplot as plt\n",
    "\n",
    "#--------------------------------------------------------------------\n",
    "# Functions\n",
    "#--------------------------------------------------------------------\n",
    "def daterange(start_date, end_date):\n",
    "    for n in range(int ((end_date - start_date).days +1)):\n",
    "        yield start_date + timedelta(n)\n",
    "\n",
    "#--------------------------------------------------------------------\n",
    "# Read CCFs\n",
    "#--------------------------------------------------------------------\n",
    "quality_df  = pd.read_csv('combined_rvs_1.csv')\n",
    "filenames   = [quality_df['Filename'][i][-27:] for i in range(len(quality_df))]\n",
    "path_prefix = '/gpfs/group/ebf11/default/pipeline/data/neid_solar/v1.1/outputs/jvz5625/'\n",
    "\n",
    "# parameters \n",
    "start_date  = date(2020, 1, 1)\n",
    "end_date    = date(2020, 12, 31)\n",
    "plot        = False"
   ]
  },
  {
   "cell_type": "code",
   "execution_count": 3,
   "metadata": {},
   "outputs": [],
   "source": [
    "single_date = date(2020, 6, 23)"
   ]
  },
  {
   "cell_type": "code",
   "execution_count": 3,
   "metadata": {},
   "outputs": [
    {
     "name": "stdout",
     "output_type": "stream",
     "text": [
      "2020-06-23\n"
     ]
    }
   ],
   "source": [
    "    print(single_date.strftime(\"%Y-%m-%d\"))\n",
    "\n",
    "    path_read   = path_prefix + single_date.strftime('ccf_by_obs_56_108/%m/%d/')\n"
   ]
  },
  {
   "cell_type": "code",
   "execution_count": 4,
   "metadata": {},
   "outputs": [
    {
     "data": {
      "text/plain": [
       "'/gpfs/group/ebf11/default/pipeline/data/neid_solar/v1.1/outputs/jvz5625/ccf_by_obs_56_108/06/23/'"
      ]
     },
     "execution_count": 4,
     "metadata": {},
     "output_type": "execute_result"
    }
   ],
   "source": [
    "path_read"
   ]
  },
  {
   "cell_type": "code",
   "execution_count": 5,
   "metadata": {},
   "outputs": [],
   "source": [
    "file_ccf    = sorted(glob.glob(path_read + '/*.ccf')) "
   ]
  },
  {
   "cell_type": "code",
   "execution_count": 6,
   "metadata": {},
   "outputs": [
    {
     "data": {
      "text/plain": [
       "[]"
      ]
     },
     "execution_count": 6,
     "metadata": {},
     "output_type": "execute_result"
    }
   ],
   "source": [
    "file_ccf"
   ]
  },
  {
   "cell_type": "code",
   "execution_count": 7,
   "metadata": {},
   "outputs": [
    {
     "ename": "IndexError",
     "evalue": "list index out of range",
     "output_type": "error",
     "traceback": [
      "\u001b[0;31m---------------------------------------------------------------------------\u001b[0m",
      "\u001b[0;31mIndexError\u001b[0m                                Traceback (most recent call last)",
      "Input \u001b[0;32mIn [7]\u001b[0m, in \u001b[0;36m<cell line: 2>\u001b[0;34m()\u001b[0m\n\u001b[1;32m      1\u001b[0m n\u001b[38;5;241m=\u001b[39m\u001b[38;5;241m0\u001b[39m\n\u001b[0;32m----> 2\u001b[0m ccf_per_obs \u001b[38;5;241m=\u001b[39m np\u001b[38;5;241m.\u001b[39mloadtxt(\u001b[43mfile_ccf\u001b[49m\u001b[43m[\u001b[49m\u001b[43mn\u001b[49m\u001b[43m]\u001b[49m)\n",
      "\u001b[0;31mIndexError\u001b[0m: list index out of range"
     ]
    }
   ],
   "source": [
    "n=0\n",
    "ccf_per_obs = np.loadtxt(file_ccf[n])"
   ]
  },
  {
   "cell_type": "code",
   "execution_count": null,
   "metadata": {},
   "outputs": [],
   "source": [
    "ccf_per_obs.shape"
   ]
  },
  {
   "cell_type": "code",
   "execution_count": null,
   "metadata": {},
   "outputs": [],
   "source": [
    "                ccf_per_obs = np.loadtxt(file_ccf[n])\n",
    "                v_grid      = -100 + np.arange(len(ccf_per_obs))*0.25\n",
    "                idx         = (v_grid>90) & (v_grid<110)\n",
    "                ccf_nor     = ccf_per_obs[idx] / np.median(ccf_per_obs[~idx])\n",
    "                σ_ccf_nor   = ccf_per_obs[idx]**0,5 / np.median(ccf_per_obs[~idx])"
   ]
  },
  {
   "cell_type": "code",
   "execution_count": null,
   "metadata": {},
   "outputs": [],
   "source": [
    "                ccf_per_obs = np.loadtxt(file_ccf[n])\n",
    "                v_grid      = -100 + np.arange(len(ccf_per_obs))*0.25\n",
    "                idx         = (v_grid>85) & (v_grid<113)\n",
    "                ccf_nor     = ccf_per_obs[idx] / np.median(ccf_per_obs[~idx])\n",
    "                σ_ccf_nor   = ccf_per_obs[idx]**0,5 / np.median(ccf_per_obs[~idx])\n",
    "                plt.plot(v_grid[idx], ccf_nor)\n",
    "                plt.show()                      "
   ]
  },
  {
   "cell_type": "code",
   "execution_count": null,
   "metadata": {},
   "outputs": [],
   "source": [
    "CCF, σ_CCF  = [], []"
   ]
  },
  {
   "cell_type": "code",
   "execution_count": null,
   "metadata": {},
   "outputs": [],
   "source": [
    "ccf_nor"
   ]
  },
  {
   "cell_type": "code",
   "execution_count": null,
   "metadata": {},
   "outputs": [],
   "source": [
    "σ_ccf_nor   = ccf_per_obs[idx]**0.5 / np.median(ccf_per_obs[~idx])\n",
    "σ_ccf_nor"
   ]
  },
  {
   "cell_type": "code",
   "execution_count": null,
   "metadata": {},
   "outputs": [],
   "source": [
    "np.median(ccf_per_obs[~idx])"
   ]
  },
  {
   "cell_type": "code",
   "execution_count": null,
   "metadata": {},
   "outputs": [],
   "source": [
    "start_date  = date(2020, 6, 23)\n",
    "end_date    = date(2020, 6, 24)\n",
    "plot        = False\n",
    "\n",
    "CCF, σ_CCF  = [], []\n",
    "\n",
    "\n",
    "# start_time  = datetime.now()\n",
    "for single_date in daterange(start_date, end_date):\n",
    "\n",
    "    print(single_date.strftime(\"%Y-%m-%d\"))\n",
    "\n",
    "    path_read   = path_prefix + single_date.strftime('ccf_by_obs_56_108/%m/%d/')\n",
    "    file_ccf    = sorted(glob.glob(path_read + '/*.ccf')) \n",
    "    N_file      = len(file_ccf)\n",
    "\n",
    "    if N_file != 0:\n",
    "        with alive_bar(N_file) as bar:\n",
    "            for n in range(N_file):\n",
    "                ccf_per_obs = np.loadtxt(file_ccf[n])\n",
    "                v_grid      = -100 + np.arange(len(ccf_per_obs))*0.25\n",
    "                idx         = (v_grid>85) & (v_grid<113)\n",
    "                ccf_nor     = ccf_per_obs[idx] / np.median(ccf_per_obs[~idx])\n",
    "                σ_ccf_nor   = ccf_per_obs[idx]**0.5 / np.median(ccf_per_obs[~idx])\n",
    "                # plt.plot(v_grid[idx], ccf_nor)\n",
    "                # plt.show()                \n",
    "                if not np.any(CCF):\n",
    "                    CCF     = ccf_nor\n",
    "                    σ_CCF   = σ_ccf_nor\n",
    "                else:\n",
    "                    CCF     = np.vstack((CCF, ccf_nor)) \n",
    "                    σ_CCF   = np.vstack((σ_CCF, σ_ccf_nor)) \n",
    "\n",
    "            bar()"
   ]
  },
  {
   "cell_type": "code",
   "execution_count": null,
   "metadata": {},
   "outputs": [],
   "source": [
    "N_file"
   ]
  },
  {
   "cell_type": "code",
   "execution_count": null,
   "metadata": {},
   "outputs": [],
   "source": [
    "σ_CCF.shape"
   ]
  },
  {
   "cell_type": "code",
   "execution_count": null,
   "metadata": {},
   "outputs": [],
   "source": [
    "CCF.shape"
   ]
  },
  {
   "cell_type": "code",
   "execution_count": null,
   "metadata": {},
   "outputs": [],
   "source": [
    "quality_df"
   ]
  },
  {
   "cell_type": "code",
   "execution_count": null,
   "metadata": {},
   "outputs": [],
   "source": [
    "quality_df"
   ]
  },
  {
   "cell_type": "code",
   "execution_count": null,
   "metadata": {},
   "outputs": [],
   "source": [
    "file_ccf[0][-26:-4]"
   ]
  },
  {
   "cell_type": "code",
   "execution_count": null,
   "metadata": {},
   "outputs": [],
   "source": [
    "filenames[:][:-4] == file_ccf[0][-26:-4]"
   ]
  },
  {
   "cell_type": "code",
   "execution_count": null,
   "metadata": {},
   "outputs": [],
   "source": [
    "filenames   = [quality_df['Filename'][i][-27:-5] for i in range(len(quality_df))]"
   ]
  },
  {
   "cell_type": "code",
   "execution_count": null,
   "metadata": {},
   "outputs": [],
   "source": [
    "quality_df[filenames.isin(file_ccf[0][-26:-4])]"
   ]
  },
  {
   "cell_type": "code",
   "execution_count": null,
   "metadata": {},
   "outputs": [],
   "source": [
    "filenames.shape"
   ]
  },
  {
   "cell_type": "code",
   "execution_count": null,
   "metadata": {},
   "outputs": [],
   "source": [
    "quality_df[quality_df['Filename'].str.contains(file_ccf[0][-26:-4])]"
   ]
  },
  {
   "cell_type": "code",
   "execution_count": null,
   "metadata": {},
   "outputs": [],
   "source": [
    "bjd = []"
   ]
  },
  {
   "cell_type": "code",
   "execution_count": null,
   "metadata": {},
   "outputs": [],
   "source": [
    "                df      = quality_df[quality_df['Filename'].str.contains(file_ccf[n][-26:-4])]\n",
    "                bjd     = bjd.append(df['bjd'].values)"
   ]
  },
  {
   "cell_type": "code",
   "execution_count": null,
   "metadata": {},
   "outputs": [],
   "source": [
    "bjd.append(df['bjd'].values)"
   ]
  },
  {
   "cell_type": "code",
   "execution_count": null,
   "metadata": {},
   "outputs": [],
   "source": [
    "bjd, rv, σrv = np.array([]), np.array([]), np.array([])"
   ]
  },
  {
   "cell_type": "code",
   "execution_count": null,
   "metadata": {},
   "outputs": [],
   "source": [
    "                df      = quality_df[quality_df['Filename'].str.contains(file_ccf[n][-26:-4])]\n",
    "                bjd     = np.append(bjd, df['bjd'])"
   ]
  },
  {
   "cell_type": "code",
   "execution_count": null,
   "metadata": {},
   "outputs": [],
   "source": [
    "quality_df  = pd.read_csv('combined_rvs_1.csv')\n",
    "filenames   = [quality_df['Filename'][i][-27:-5] for i in range(len(quality_df))]\n",
    "path_prefix = '/gpfs/group/ebf11/default/pipeline/data/neid_solar/v1.1/outputs/jvz5625/'\n",
    "\n",
    "# parameters \n",
    "start_date  = date(2020, 6, 23)\n",
    "end_date    = date(2020, 6, 24)\n",
    "plot        = False\n",
    "\n",
    "CCF, σ_CCF  = [], []\n",
    "bjd, rv, σrv = np.array([]), np.array([]), np.array([])\n",
    "\n",
    "# start_time  = datetime.now()\n",
    "for single_date in daterange(start_date, end_date):\n",
    "\n",
    "    print(single_date.strftime(\"%Y-%m-%d\"))\n",
    "\n",
    "    path_read   = path_prefix + single_date.strftime('ccf_by_obs_56_108/%m/%d/')\n",
    "    file_ccf    = sorted(glob.glob(path_read + '/*.ccf')) \n",
    "    N_file      = len(file_ccf)\n",
    "\n",
    "    if N_file != 0:\n",
    "        with alive_bar(N_file) as bar:\n",
    "            for n in range(N_file):\n",
    "                ccf_per_obs = np.loadtxt(file_ccf[n])\n",
    "                v_grid      = -100 + np.arange(len(ccf_per_obs))*0.25\n",
    "                idx         = (v_grid>85) & (v_grid<113)\n",
    "                ccf_nor     = ccf_per_obs[idx] / np.median(ccf_per_obs[~idx])\n",
    "                σ_ccf_nor   = ccf_per_obs[idx]**0.5 / np.median(ccf_per_obs[~idx])\n",
    "                # plt.plot(v_grid[idx], ccf_nor)\n",
    "                # plt.show()                \n",
    "                if not np.any(CCF):\n",
    "                    CCF     = ccf_nor\n",
    "                    σ_CCF   = σ_ccf_nor\n",
    "                else:\n",
    "                    CCF     = np.vstack((CCF, ccf_nor)) \n",
    "                    σ_CCF   = np.vstack((σ_CCF, σ_ccf_nor)) \n",
    "\n",
    "                df      = quality_df[quality_df['Filename'].str.contains(file_ccf[n][-26:-4])]\n",
    "                bjd     = np.append(bjd, df['jd_drp'])\n",
    "                rv      = np.append(rv, df['rv_drp'])\n",
    "                σrv     = np.append(σrv, df['σrv_drp'])\n",
    "\n",
    "            bar()"
   ]
  },
  {
   "cell_type": "code",
   "execution_count": null,
   "metadata": {},
   "outputs": [],
   "source": [
    "σrv.shape"
   ]
  },
  {
   "cell_type": "code",
   "execution_count": null,
   "metadata": {},
   "outputs": [],
   "source": [
    "σrv"
   ]
  },
  {
   "cell_type": "code",
   "execution_count": null,
   "metadata": {},
   "outputs": [],
   "source": [
    "CCF.shape"
   ]
  },
  {
   "cell_type": "code",
   "execution_count": null,
   "metadata": {},
   "outputs": [],
   "source": [
    "quality_df  = pd.read_csv('combined_rvs_1.csv')\n",
    "filenames   = [quality_df['Filename'][i][-27:-5] for i in range(len(quality_df))]\n",
    "path_prefix = '/gpfs/group/ebf11/default/pipeline/data/neid_solar/v1.1/outputs/jvz5625/'\n",
    "\n",
    "# parameters \n",
    "start_date  = date(2020, 6, 1)\n",
    "end_date    = date(2020, 6, 10)\n",
    "plot        = False\n",
    "\n",
    "CCF, σ_CCF  = [], []\n",
    "bjd, rv, σrv = np.array([]), np.array([]), np.array([])\n",
    "\n",
    "# start_time  = datetime.now()\n",
    "for single_date in daterange(start_date, end_date):\n",
    "\n",
    "    print(single_date.strftime(\"%Y-%m-%d\"))\n",
    "\n",
    "    path_read   = path_prefix + single_date.strftime('ccf_by_obs_56_108/%m/%d/')\n",
    "    file_ccf    = sorted(glob.glob(path_read + '/*.ccf')) \n",
    "    N_file      = len(file_ccf)\n",
    "\n",
    "    if N_file != 0:\n",
    "        with alive_bar(N_file) as bar:\n",
    "            for n in range(N_file):\n",
    "                ccf_per_obs = np.loadtxt(file_ccf[n])\n",
    "                v_grid      = -100 + np.arange(len(ccf_per_obs))*0.25\n",
    "                idx         = (v_grid>85) & (v_grid<113)\n",
    "                ccf_nor     = ccf_per_obs[idx] / np.median(ccf_per_obs[~idx])\n",
    "                σ_ccf_nor   = ccf_per_obs[idx]**0.5 / np.median(ccf_per_obs[~idx])\n",
    "                # plt.plot(v_grid[idx], ccf_nor)\n",
    "                # plt.show()                \n",
    "                if not np.any(CCF):\n",
    "                    CCF     = ccf_nor\n",
    "                    σ_CCF   = σ_ccf_nor\n",
    "                else:\n",
    "                    CCF     = np.vstack((CCF, ccf_nor)) \n",
    "                    σ_CCF   = np.vstack((σ_CCF, σ_ccf_nor)) \n",
    "\n",
    "                df      = quality_df[quality_df['Filename'].str.contains(file_ccf[n][-26:-4])]\n",
    "                bjd     = np.append(bjd, df['jd_drp'])\n",
    "                rv      = np.append(rv, df['rv_drp'])\n",
    "                σrv     = np.append(σrv, df['σrv_drp'])\n",
    "\n",
    "            bar()"
   ]
  },
  {
   "cell_type": "code",
   "execution_count": null,
   "metadata": {},
   "outputs": [],
   "source": [
    "bjd.shape"
   ]
  },
  {
   "cell_type": "code",
   "execution_count": null,
   "metadata": {},
   "outputs": [],
   "source": [
    "CCF.shape"
   ]
  },
  {
   "cell_type": "code",
   "execution_count": null,
   "metadata": {},
   "outputs": [],
   "source": [
    "df, shift_spectrum, err_shift_spectrum, power_spectrum, err_power_spectrum, RV_gauss = FIESTA(v_grid[idx], CCF.T, σ_CCF.T)"
   ]
  },
  {
   "cell_type": "code",
   "execution_count": null,
   "metadata": {},
   "outputs": [],
   "source": [
    "from FIESTA_functions import *"
   ]
  },
  {
   "cell_type": "code",
   "execution_count": null,
   "metadata": {},
   "outputs": [],
   "source": [
    "v_grid.shape"
   ]
  },
  {
   "cell_type": "code",
   "execution_count": null,
   "metadata": {},
   "outputs": [],
   "source": [
    "plt.plot(v_grid[idx], (1-CCF).T)\n",
    "plt.show()"
   ]
  },
  {
   "cell_type": "code",
   "execution_count": null,
   "metadata": {},
   "outputs": [],
   "source": [
    "df, shift_spectrum, err_shift_spectrum, power_spectrum, err_power_spectrum, RV_gauss = FIESTA(v_grid[idx], (1-CCF).T, σ_CCF.T, k_max = 6)"
   ]
  },
  {
   "cell_type": "code",
   "execution_count": null,
   "metadata": {},
   "outputs": [],
   "source": [
    "from HARPS_N_functions import *"
   ]
  },
  {
   "cell_type": "code",
   "execution_count": null,
   "metadata": {},
   "outputs": [],
   "source": [
    "plt.rcParams.update({'font.size': 12})\n",
    "\n",
    "def time_series(x=bjd_daily, y=power_spectrum, dy=err_power_spectrum, N=None,\n",
    "\t\t\t\tylabel='k=',\n",
    "\t\t\t\ttitle='Time series',\n",
    "\t\t\t\tfile_name='Time_series.png'):\n",
    "\tif N==None:\n",
    "\t\tN = y.shape[1]\n",
    "\tplt.subplots(figsize=(12, N))\n",
    "\n",
    "\tfor i in range(N):\n",
    "\t\tax = plt.subplot(N, 1, i+1)\n",
    "\t\tif i == 0:\n",
    "\t\t\tplt.title(title)\n",
    "\t\tplt.errorbar(x, y[:, i], dy[:, i], marker='.', ls='none', alpha=0.5, ms=5)\n",
    "\t\tplt.ylabel(ylabel+str(i+1))\n",
    "\t\tif i != N-1:\n",
    "\t\t\tax.set_xticks([])\n",
    "\t\telse:\n",
    "\t\t\tplt.xlabel('BJD - 2400000 [d]')\n",
    "\tplt.savefig(file_name)\n",
    "\tplt.show()"
   ]
  },
  {
   "cell_type": "code",
   "execution_count": null,
   "metadata": {},
   "outputs": [],
   "source": [
    "plt.rcParams.update({'font.size': 12})\n",
    "\n",
    "def time_series(x, y, dy, N=None,\n",
    "\t\t\t\tylabel='k=',\n",
    "\t\t\t\ttitle='Time series',\n",
    "\t\t\t\tfile_name='Time_series.png'):\n",
    "\tif N==None:\n",
    "\t\tN = y.shape[1]\n",
    "\tplt.subplots(figsize=(12, N))\n",
    "\n",
    "\tfor i in range(N):\n",
    "\t\tax = plt.subplot(N, 1, i+1)\n",
    "\t\tif i == 0:\n",
    "\t\t\tplt.title(title)\n",
    "\t\tplt.errorbar(x, y[:, i], dy[:, i], marker='.', ls='none', alpha=0.5, ms=5)\n",
    "\t\tplt.ylabel(ylabel+str(i+1))\n",
    "\t\tif i != N-1:\n",
    "\t\t\tax.set_xticks([])\n",
    "\t\telse:\n",
    "\t\t\tplt.xlabel('BJD - 2400000 [d]')\n",
    "\tplt.savefig(file_name)\n",
    "\tplt.show()"
   ]
  },
  {
   "cell_type": "code",
   "execution_count": null,
   "metadata": {},
   "outputs": [],
   "source": [
    "time_series(x=bjd, y=power_spectrum.T, dy=err_power_spectrum.T, N=None,\n",
    "\t\t\t\ttitle='$A_k$ time series',\n",
    "\t\t\t\tfile_name='FIESTA_amplitude_time_series.png')"
   ]
  },
  {
   "cell_type": "code",
   "execution_count": null,
   "metadata": {},
   "outputs": [],
   "source": [
    "bjd.shape"
   ]
  },
  {
   "cell_type": "code",
   "execution_count": null,
   "metadata": {},
   "outputs": [],
   "source": [
    "power_spectrum.shape"
   ]
  },
  {
   "cell_type": "code",
   "execution_count": null,
   "metadata": {},
   "outputs": [],
   "source": [
    "shift_spectrum.shape"
   ]
  },
  {
   "cell_type": "code",
   "execution_count": null,
   "metadata": {},
   "outputs": [],
   "source": []
  }
 ],
 "metadata": {
  "kernelspec": {
   "display_name": "Python 3 (ipykernel)",
   "language": "python",
   "name": "python3"
  },
  "language_info": {
   "codemirror_mode": {
    "name": "ipython",
    "version": 3
   },
   "file_extension": ".py",
   "mimetype": "text/x-python",
   "name": "python",
   "nbconvert_exporter": "python",
   "pygments_lexer": "ipython3",
   "version": "3.10.6"
  }
 },
 "nbformat": 4,
 "nbformat_minor": 4
}
