{
 "cells": [
  {
   "cell_type": "code",
   "execution_count": 2,
   "metadata": {},
   "outputs": [
    {
     "ename": "FileNotFoundError",
     "evalue": "[Errno 2] No such file or directory: 'combined_rvs_1.csv'",
     "output_type": "error",
     "traceback": [
      "\u001b[1;31m---------------------------------------------------------------------------\u001b[0m",
      "\u001b[1;31mFileNotFoundError\u001b[0m                         Traceback (most recent call last)",
      "\u001b[1;32md:\\Github\\NEID_solar\\Untitled2.ipynb Cell 1\u001b[0m in \u001b[0;36m<cell line: 21>\u001b[1;34m()\u001b[0m\n\u001b[0;32m     <a href='vscode-notebook-cell:/d%3A/Github/NEID_solar/Untitled2.ipynb#W0sZmlsZQ%3D%3D?line=15'>16</a>\u001b[0m         \u001b[39myield\u001b[39;00m start_date \u001b[39m+\u001b[39m timedelta(n)\n\u001b[0;32m     <a href='vscode-notebook-cell:/d%3A/Github/NEID_solar/Untitled2.ipynb#W0sZmlsZQ%3D%3D?line=17'>18</a>\u001b[0m \u001b[39m#--------------------------------------------------------------------\u001b[39;00m\n\u001b[0;32m     <a href='vscode-notebook-cell:/d%3A/Github/NEID_solar/Untitled2.ipynb#W0sZmlsZQ%3D%3D?line=18'>19</a>\u001b[0m \u001b[39m# Read CCFs\u001b[39;00m\n\u001b[0;32m     <a href='vscode-notebook-cell:/d%3A/Github/NEID_solar/Untitled2.ipynb#W0sZmlsZQ%3D%3D?line=19'>20</a>\u001b[0m \u001b[39m#--------------------------------------------------------------------\u001b[39;00m\n\u001b[1;32m---> <a href='vscode-notebook-cell:/d%3A/Github/NEID_solar/Untitled2.ipynb#W0sZmlsZQ%3D%3D?line=20'>21</a>\u001b[0m quality_df  \u001b[39m=\u001b[39m pd\u001b[39m.\u001b[39;49mread_csv(\u001b[39m'\u001b[39;49m\u001b[39mcombined_rvs_1.csv\u001b[39;49m\u001b[39m'\u001b[39;49m)\n\u001b[0;32m     <a href='vscode-notebook-cell:/d%3A/Github/NEID_solar/Untitled2.ipynb#W0sZmlsZQ%3D%3D?line=21'>22</a>\u001b[0m filenames   \u001b[39m=\u001b[39m [quality_df[\u001b[39m'\u001b[39m\u001b[39mFilename\u001b[39m\u001b[39m'\u001b[39m][i][\u001b[39m-\u001b[39m\u001b[39m27\u001b[39m:] \u001b[39mfor\u001b[39;00m i \u001b[39min\u001b[39;00m \u001b[39mrange\u001b[39m(\u001b[39mlen\u001b[39m(quality_df))]\n\u001b[0;32m     <a href='vscode-notebook-cell:/d%3A/Github/NEID_solar/Untitled2.ipynb#W0sZmlsZQ%3D%3D?line=22'>23</a>\u001b[0m path_prefix \u001b[39m=\u001b[39m \u001b[39m'\u001b[39m\u001b[39m/gpfs/group/ebf11/default/pipeline/data/neid_solar/v1.1/outputs/jvz5625/\u001b[39m\u001b[39m'\u001b[39m\n",
      "File \u001b[1;32mc:\\Users\\alanz\\anaconda3\\envs\\tf-gpu\\lib\\site-packages\\pandas\\util\\_decorators.py:211\u001b[0m, in \u001b[0;36mdeprecate_kwarg.<locals>._deprecate_kwarg.<locals>.wrapper\u001b[1;34m(*args, **kwargs)\u001b[0m\n\u001b[0;32m    209\u001b[0m     \u001b[39melse\u001b[39;00m:\n\u001b[0;32m    210\u001b[0m         kwargs[new_arg_name] \u001b[39m=\u001b[39m new_arg_value\n\u001b[1;32m--> 211\u001b[0m \u001b[39mreturn\u001b[39;00m func(\u001b[39m*\u001b[39margs, \u001b[39m*\u001b[39m\u001b[39m*\u001b[39mkwargs)\n",
      "File \u001b[1;32mc:\\Users\\alanz\\anaconda3\\envs\\tf-gpu\\lib\\site-packages\\pandas\\util\\_decorators.py:331\u001b[0m, in \u001b[0;36mdeprecate_nonkeyword_arguments.<locals>.decorate.<locals>.wrapper\u001b[1;34m(*args, **kwargs)\u001b[0m\n\u001b[0;32m    325\u001b[0m \u001b[39mif\u001b[39;00m \u001b[39mlen\u001b[39m(args) \u001b[39m>\u001b[39m num_allow_args:\n\u001b[0;32m    326\u001b[0m     warnings\u001b[39m.\u001b[39mwarn(\n\u001b[0;32m    327\u001b[0m         msg\u001b[39m.\u001b[39mformat(arguments\u001b[39m=\u001b[39m_format_argument_list(allow_args)),\n\u001b[0;32m    328\u001b[0m         \u001b[39mFutureWarning\u001b[39;00m,\n\u001b[0;32m    329\u001b[0m         stacklevel\u001b[39m=\u001b[39mfind_stack_level(),\n\u001b[0;32m    330\u001b[0m     )\n\u001b[1;32m--> 331\u001b[0m \u001b[39mreturn\u001b[39;00m func(\u001b[39m*\u001b[39margs, \u001b[39m*\u001b[39m\u001b[39m*\u001b[39mkwargs)\n",
      "File \u001b[1;32mc:\\Users\\alanz\\anaconda3\\envs\\tf-gpu\\lib\\site-packages\\pandas\\io\\parsers\\readers.py:950\u001b[0m, in \u001b[0;36mread_csv\u001b[1;34m(filepath_or_buffer, sep, delimiter, header, names, index_col, usecols, squeeze, prefix, mangle_dupe_cols, dtype, engine, converters, true_values, false_values, skipinitialspace, skiprows, skipfooter, nrows, na_values, keep_default_na, na_filter, verbose, skip_blank_lines, parse_dates, infer_datetime_format, keep_date_col, date_parser, dayfirst, cache_dates, iterator, chunksize, compression, thousands, decimal, lineterminator, quotechar, quoting, doublequote, escapechar, comment, encoding, encoding_errors, dialect, error_bad_lines, warn_bad_lines, on_bad_lines, delim_whitespace, low_memory, memory_map, float_precision, storage_options)\u001b[0m\n\u001b[0;32m    935\u001b[0m kwds_defaults \u001b[39m=\u001b[39m _refine_defaults_read(\n\u001b[0;32m    936\u001b[0m     dialect,\n\u001b[0;32m    937\u001b[0m     delimiter,\n\u001b[1;32m   (...)\u001b[0m\n\u001b[0;32m    946\u001b[0m     defaults\u001b[39m=\u001b[39m{\u001b[39m\"\u001b[39m\u001b[39mdelimiter\u001b[39m\u001b[39m\"\u001b[39m: \u001b[39m\"\u001b[39m\u001b[39m,\u001b[39m\u001b[39m\"\u001b[39m},\n\u001b[0;32m    947\u001b[0m )\n\u001b[0;32m    948\u001b[0m kwds\u001b[39m.\u001b[39mupdate(kwds_defaults)\n\u001b[1;32m--> 950\u001b[0m \u001b[39mreturn\u001b[39;00m _read(filepath_or_buffer, kwds)\n",
      "File \u001b[1;32mc:\\Users\\alanz\\anaconda3\\envs\\tf-gpu\\lib\\site-packages\\pandas\\io\\parsers\\readers.py:605\u001b[0m, in \u001b[0;36m_read\u001b[1;34m(filepath_or_buffer, kwds)\u001b[0m\n\u001b[0;32m    602\u001b[0m _validate_names(kwds\u001b[39m.\u001b[39mget(\u001b[39m\"\u001b[39m\u001b[39mnames\u001b[39m\u001b[39m\"\u001b[39m, \u001b[39mNone\u001b[39;00m))\n\u001b[0;32m    604\u001b[0m \u001b[39m# Create the parser.\u001b[39;00m\n\u001b[1;32m--> 605\u001b[0m parser \u001b[39m=\u001b[39m TextFileReader(filepath_or_buffer, \u001b[39m*\u001b[39m\u001b[39m*\u001b[39mkwds)\n\u001b[0;32m    607\u001b[0m \u001b[39mif\u001b[39;00m chunksize \u001b[39mor\u001b[39;00m iterator:\n\u001b[0;32m    608\u001b[0m     \u001b[39mreturn\u001b[39;00m parser\n",
      "File \u001b[1;32mc:\\Users\\alanz\\anaconda3\\envs\\tf-gpu\\lib\\site-packages\\pandas\\io\\parsers\\readers.py:1442\u001b[0m, in \u001b[0;36mTextFileReader.__init__\u001b[1;34m(self, f, engine, **kwds)\u001b[0m\n\u001b[0;32m   1439\u001b[0m     \u001b[39mself\u001b[39m\u001b[39m.\u001b[39moptions[\u001b[39m\"\u001b[39m\u001b[39mhas_index_names\u001b[39m\u001b[39m\"\u001b[39m] \u001b[39m=\u001b[39m kwds[\u001b[39m\"\u001b[39m\u001b[39mhas_index_names\u001b[39m\u001b[39m\"\u001b[39m]\n\u001b[0;32m   1441\u001b[0m \u001b[39mself\u001b[39m\u001b[39m.\u001b[39mhandles: IOHandles \u001b[39m|\u001b[39m \u001b[39mNone\u001b[39;00m \u001b[39m=\u001b[39m \u001b[39mNone\u001b[39;00m\n\u001b[1;32m-> 1442\u001b[0m \u001b[39mself\u001b[39m\u001b[39m.\u001b[39m_engine \u001b[39m=\u001b[39m \u001b[39mself\u001b[39;49m\u001b[39m.\u001b[39;49m_make_engine(f, \u001b[39mself\u001b[39;49m\u001b[39m.\u001b[39;49mengine)\n",
      "File \u001b[1;32mc:\\Users\\alanz\\anaconda3\\envs\\tf-gpu\\lib\\site-packages\\pandas\\io\\parsers\\readers.py:1735\u001b[0m, in \u001b[0;36mTextFileReader._make_engine\u001b[1;34m(self, f, engine)\u001b[0m\n\u001b[0;32m   1733\u001b[0m     \u001b[39mif\u001b[39;00m \u001b[39m\"\u001b[39m\u001b[39mb\u001b[39m\u001b[39m\"\u001b[39m \u001b[39mnot\u001b[39;00m \u001b[39min\u001b[39;00m mode:\n\u001b[0;32m   1734\u001b[0m         mode \u001b[39m+\u001b[39m\u001b[39m=\u001b[39m \u001b[39m\"\u001b[39m\u001b[39mb\u001b[39m\u001b[39m\"\u001b[39m\n\u001b[1;32m-> 1735\u001b[0m \u001b[39mself\u001b[39m\u001b[39m.\u001b[39mhandles \u001b[39m=\u001b[39m get_handle(\n\u001b[0;32m   1736\u001b[0m     f,\n\u001b[0;32m   1737\u001b[0m     mode,\n\u001b[0;32m   1738\u001b[0m     encoding\u001b[39m=\u001b[39;49m\u001b[39mself\u001b[39;49m\u001b[39m.\u001b[39;49moptions\u001b[39m.\u001b[39;49mget(\u001b[39m\"\u001b[39;49m\u001b[39mencoding\u001b[39;49m\u001b[39m\"\u001b[39;49m, \u001b[39mNone\u001b[39;49;00m),\n\u001b[0;32m   1739\u001b[0m     compression\u001b[39m=\u001b[39;49m\u001b[39mself\u001b[39;49m\u001b[39m.\u001b[39;49moptions\u001b[39m.\u001b[39;49mget(\u001b[39m\"\u001b[39;49m\u001b[39mcompression\u001b[39;49m\u001b[39m\"\u001b[39;49m, \u001b[39mNone\u001b[39;49;00m),\n\u001b[0;32m   1740\u001b[0m     memory_map\u001b[39m=\u001b[39;49m\u001b[39mself\u001b[39;49m\u001b[39m.\u001b[39;49moptions\u001b[39m.\u001b[39;49mget(\u001b[39m\"\u001b[39;49m\u001b[39mmemory_map\u001b[39;49m\u001b[39m\"\u001b[39;49m, \u001b[39mFalse\u001b[39;49;00m),\n\u001b[0;32m   1741\u001b[0m     is_text\u001b[39m=\u001b[39;49mis_text,\n\u001b[0;32m   1742\u001b[0m     errors\u001b[39m=\u001b[39;49m\u001b[39mself\u001b[39;49m\u001b[39m.\u001b[39;49moptions\u001b[39m.\u001b[39;49mget(\u001b[39m\"\u001b[39;49m\u001b[39mencoding_errors\u001b[39;49m\u001b[39m\"\u001b[39;49m, \u001b[39m\"\u001b[39;49m\u001b[39mstrict\u001b[39;49m\u001b[39m\"\u001b[39;49m),\n\u001b[0;32m   1743\u001b[0m     storage_options\u001b[39m=\u001b[39;49m\u001b[39mself\u001b[39;49m\u001b[39m.\u001b[39;49moptions\u001b[39m.\u001b[39;49mget(\u001b[39m\"\u001b[39;49m\u001b[39mstorage_options\u001b[39;49m\u001b[39m\"\u001b[39;49m, \u001b[39mNone\u001b[39;49;00m),\n\u001b[0;32m   1744\u001b[0m )\n\u001b[0;32m   1745\u001b[0m \u001b[39massert\u001b[39;00m \u001b[39mself\u001b[39m\u001b[39m.\u001b[39mhandles \u001b[39mis\u001b[39;00m \u001b[39mnot\u001b[39;00m \u001b[39mNone\u001b[39;00m\n\u001b[0;32m   1746\u001b[0m f \u001b[39m=\u001b[39m \u001b[39mself\u001b[39m\u001b[39m.\u001b[39mhandles\u001b[39m.\u001b[39mhandle\n",
      "File \u001b[1;32mc:\\Users\\alanz\\anaconda3\\envs\\tf-gpu\\lib\\site-packages\\pandas\\io\\common.py:856\u001b[0m, in \u001b[0;36mget_handle\u001b[1;34m(path_or_buf, mode, encoding, compression, memory_map, is_text, errors, storage_options)\u001b[0m\n\u001b[0;32m    851\u001b[0m \u001b[39melif\u001b[39;00m \u001b[39misinstance\u001b[39m(handle, \u001b[39mstr\u001b[39m):\n\u001b[0;32m    852\u001b[0m     \u001b[39m# Check whether the filename is to be opened in binary mode.\u001b[39;00m\n\u001b[0;32m    853\u001b[0m     \u001b[39m# Binary mode does not support 'encoding' and 'newline'.\u001b[39;00m\n\u001b[0;32m    854\u001b[0m     \u001b[39mif\u001b[39;00m ioargs\u001b[39m.\u001b[39mencoding \u001b[39mand\u001b[39;00m \u001b[39m\"\u001b[39m\u001b[39mb\u001b[39m\u001b[39m\"\u001b[39m \u001b[39mnot\u001b[39;00m \u001b[39min\u001b[39;00m ioargs\u001b[39m.\u001b[39mmode:\n\u001b[0;32m    855\u001b[0m         \u001b[39m# Encoding\u001b[39;00m\n\u001b[1;32m--> 856\u001b[0m         handle \u001b[39m=\u001b[39m \u001b[39mopen\u001b[39;49m(\n\u001b[0;32m    857\u001b[0m             handle,\n\u001b[0;32m    858\u001b[0m             ioargs\u001b[39m.\u001b[39;49mmode,\n\u001b[0;32m    859\u001b[0m             encoding\u001b[39m=\u001b[39;49mioargs\u001b[39m.\u001b[39;49mencoding,\n\u001b[0;32m    860\u001b[0m             errors\u001b[39m=\u001b[39;49merrors,\n\u001b[0;32m    861\u001b[0m             newline\u001b[39m=\u001b[39;49m\u001b[39m\"\u001b[39;49m\u001b[39m\"\u001b[39;49m,\n\u001b[0;32m    862\u001b[0m         )\n\u001b[0;32m    863\u001b[0m     \u001b[39melse\u001b[39;00m:\n\u001b[0;32m    864\u001b[0m         \u001b[39m# Binary mode\u001b[39;00m\n\u001b[0;32m    865\u001b[0m         handle \u001b[39m=\u001b[39m \u001b[39mopen\u001b[39m(handle, ioargs\u001b[39m.\u001b[39mmode)\n",
      "\u001b[1;31mFileNotFoundError\u001b[0m: [Errno 2] No such file or directory: 'combined_rvs_1.csv'"
     ]
    }
   ],
   "source": [
    "import numpy as np\n",
    "import os\n",
    "import glob\n",
    "import pandas as pd\n",
    "from astropy.io import fits\n",
    "from datetime import timedelta, date\n",
    "from datetime import datetime\n",
    "from alive_progress import alive_bar\n",
    "import matplotlib.pyplot as plt\n",
    "\n",
    "#--------------------------------------------------------------------\n",
    "# Functions\n",
    "#--------------------------------------------------------------------\n",
    "def daterange(start_date, end_date):\n",
    "    for n in range(int ((end_date - start_date).days +1)):\n",
    "        yield start_date + timedelta(n)\n",
    "\n",
    "#--------------------------------------------------------------------\n",
    "# Read CCFs\n",
    "#--------------------------------------------------------------------\n",
    "quality_df  = pd.read_csv('combined_rvs_1.csv')\n",
    "filenames   = [quality_df['Filename'][i][-27:] for i in range(len(quality_df))]\n",
    "path_prefix = '/gpfs/group/ebf11/default/pipeline/data/neid_solar/v1.1/outputs/jvz5625/'\n",
    "\n",
    "# parameters \n",
    "start_date  = date(2020, 1, 1)\n",
    "end_date    = date(2020, 12, 31)\n",
    "plot        = False"
   ]
  },
  {
   "cell_type": "code",
   "execution_count": 3,
   "metadata": {},
   "outputs": [],
   "source": [
    "single_date = date(2020, 6, 23)"
   ]
  },
  {
   "cell_type": "code",
   "execution_count": 3,
   "metadata": {},
   "outputs": [
    {
     "name": "stdout",
     "output_type": "stream",
     "text": [
      "2020-06-23\n"
     ]
    }
   ],
   "source": [
    "    print(single_date.strftime(\"%Y-%m-%d\"))\n",
    "\n",
    "    path_read   = path_prefix + single_date.strftime('ccf_by_obs_56_108/%m/%d/')\n"
   ]
  },
  {
   "cell_type": "code",
   "execution_count": 4,
   "metadata": {},
   "outputs": [
    {
     "data": {
      "text/plain": [
       "'/gpfs/group/ebf11/default/pipeline/data/neid_solar/v1.1/outputs/jvz5625/ccf_by_obs_56_108/06/23/'"
      ]
     },
     "execution_count": 4,
     "metadata": {},
     "output_type": "execute_result"
    }
   ],
   "source": [
    "path_read"
   ]
  },
  {
   "cell_type": "code",
   "execution_count": 5,
   "metadata": {},
   "outputs": [],
   "source": [
    "file_ccf    = sorted(glob.glob(path_read + '/*.ccf')) "
   ]
  },
  {
   "cell_type": "code",
   "execution_count": 6,
   "metadata": {},
   "outputs": [
    {
     "data": {
      "text/plain": [
       "[]"
      ]
     },
     "execution_count": 6,
     "metadata": {},
     "output_type": "execute_result"
    }
   ],
   "source": [
    "file_ccf"
   ]
  },
  {
   "cell_type": "code",
   "execution_count": 7,
   "metadata": {},
   "outputs": [
    {
     "ename": "IndexError",
     "evalue": "list index out of range",
     "output_type": "error",
     "traceback": [
      "\u001b[0;31m---------------------------------------------------------------------------\u001b[0m",
      "\u001b[0;31mIndexError\u001b[0m                                Traceback (most recent call last)",
      "Input \u001b[0;32mIn [7]\u001b[0m, in \u001b[0;36m<cell line: 2>\u001b[0;34m()\u001b[0m\n\u001b[1;32m      1\u001b[0m n\u001b[38;5;241m=\u001b[39m\u001b[38;5;241m0\u001b[39m\n\u001b[0;32m----> 2\u001b[0m ccf_per_obs \u001b[38;5;241m=\u001b[39m np\u001b[38;5;241m.\u001b[39mloadtxt(\u001b[43mfile_ccf\u001b[49m\u001b[43m[\u001b[49m\u001b[43mn\u001b[49m\u001b[43m]\u001b[49m)\n",
      "\u001b[0;31mIndexError\u001b[0m: list index out of range"
     ]
    }
   ],
   "source": [
    "n=0\n",
    "ccf_per_obs = np.loadtxt(file_ccf[n])"
   ]
  },
  {
   "cell_type": "code",
   "execution_count": null,
   "metadata": {},
   "outputs": [],
   "source": [
    "ccf_per_obs.shape"
   ]
  },
  {
   "cell_type": "code",
   "execution_count": null,
   "metadata": {},
   "outputs": [],
   "source": [
    "                ccf_per_obs = np.loadtxt(file_ccf[n])\n",
    "                v_grid      = -100 + np.arange(len(ccf_per_obs))*0.25\n",
    "                idx         = (v_grid>90) & (v_grid<110)\n",
    "                ccf_nor     = ccf_per_obs[idx] / np.median(ccf_per_obs[~idx])\n",
    "                σ_ccf_nor   = ccf_per_obs[idx]**0,5 / np.median(ccf_per_obs[~idx])"
   ]
  },
  {
   "cell_type": "code",
   "execution_count": null,
   "metadata": {},
   "outputs": [],
   "source": [
    "                ccf_per_obs = np.loadtxt(file_ccf[n])\n",
    "                v_grid      = -100 + np.arange(len(ccf_per_obs))*0.25\n",
    "                idx         = (v_grid>85) & (v_grid<113)\n",
    "                ccf_nor     = ccf_per_obs[idx] / np.median(ccf_per_obs[~idx])\n",
    "                σ_ccf_nor   = ccf_per_obs[idx]**0,5 / np.median(ccf_per_obs[~idx])\n",
    "                plt.plot(v_grid[idx], ccf_nor)\n",
    "                plt.show()                      "
   ]
  },
  {
   "cell_type": "code",
   "execution_count": null,
   "metadata": {},
   "outputs": [],
   "source": [
    "CCF, σ_CCF  = [], []"
   ]
  },
  {
   "cell_type": "code",
   "execution_count": null,
   "metadata": {},
   "outputs": [],
   "source": [
    "ccf_nor"
   ]
  },
  {
   "cell_type": "code",
   "execution_count": null,
   "metadata": {},
   "outputs": [],
   "source": [
    "σ_ccf_nor   = ccf_per_obs[idx]**0.5 / np.median(ccf_per_obs[~idx])\n",
    "σ_ccf_nor"
   ]
  },
  {
   "cell_type": "code",
   "execution_count": null,
   "metadata": {},
   "outputs": [],
   "source": [
    "np.median(ccf_per_obs[~idx])"
   ]
  },
  {
   "cell_type": "code",
   "execution_count": null,
   "metadata": {},
   "outputs": [],
   "source": [
    "start_date  = date(2020, 6, 23)\n",
    "end_date    = date(2020, 6, 24)\n",
    "plot        = False\n",
    "\n",
    "CCF, σ_CCF  = [], []\n",
    "\n",
    "\n",
    "# start_time  = datetime.now()\n",
    "for single_date in daterange(start_date, end_date):\n",
    "\n",
    "    print(single_date.strftime(\"%Y-%m-%d\"))\n",
    "\n",
    "    path_read   = path_prefix + single_date.strftime('ccf_by_obs_56_108/%m/%d/')\n",
    "    file_ccf    = sorted(glob.glob(path_read + '/*.ccf')) \n",
    "    N_file      = len(file_ccf)\n",
    "\n",
    "    if N_file != 0:\n",
    "        with alive_bar(N_file) as bar:\n",
    "            for n in range(N_file):\n",
    "                ccf_per_obs = np.loadtxt(file_ccf[n])\n",
    "                v_grid      = -100 + np.arange(len(ccf_per_obs))*0.25\n",
    "                idx         = (v_grid>85) & (v_grid<113)\n",
    "                ccf_nor     = ccf_per_obs[idx] / np.median(ccf_per_obs[~idx])\n",
    "                σ_ccf_nor   = ccf_per_obs[idx]**0.5 / np.median(ccf_per_obs[~idx])\n",
    "                # plt.plot(v_grid[idx], ccf_nor)\n",
    "                # plt.show()                \n",
    "                if not np.any(CCF):\n",
    "                    CCF     = ccf_nor\n",
    "                    σ_CCF   = σ_ccf_nor\n",
    "                else:\n",
    "                    CCF     = np.vstack((CCF, ccf_nor)) \n",
    "                    σ_CCF   = np.vstack((σ_CCF, σ_ccf_nor)) \n",
    "\n",
    "            bar()"
   ]
  },
  {
   "cell_type": "code",
   "execution_count": null,
   "metadata": {},
   "outputs": [],
   "source": [
    "N_file"
   ]
  },
  {
   "cell_type": "code",
   "execution_count": null,
   "metadata": {},
   "outputs": [],
   "source": [
    "σ_CCF.shape"
   ]
  },
  {
   "cell_type": "code",
   "execution_count": null,
   "metadata": {},
   "outputs": [],
   "source": [
    "CCF.shape"
   ]
  },
  {
   "cell_type": "code",
   "execution_count": null,
   "metadata": {},
   "outputs": [],
   "source": [
    "quality_df"
   ]
  },
  {
   "cell_type": "code",
   "execution_count": null,
   "metadata": {},
   "outputs": [],
   "source": [
    "quality_df"
   ]
  },
  {
   "cell_type": "code",
   "execution_count": null,
   "metadata": {},
   "outputs": [],
   "source": [
    "file_ccf[0][-26:-4]"
   ]
  },
  {
   "cell_type": "code",
   "execution_count": null,
   "metadata": {},
   "outputs": [],
   "source": [
    "filenames[:][:-4] == file_ccf[0][-26:-4]"
   ]
  },
  {
   "cell_type": "code",
   "execution_count": null,
   "metadata": {},
   "outputs": [],
   "source": [
    "filenames   = [quality_df['Filename'][i][-27:-5] for i in range(len(quality_df))]"
   ]
  },
  {
   "cell_type": "code",
   "execution_count": null,
   "metadata": {},
   "outputs": [],
   "source": [
    "quality_df[filenames.isin(file_ccf[0][-26:-4])]"
   ]
  },
  {
   "cell_type": "code",
   "execution_count": null,
   "metadata": {},
   "outputs": [],
   "source": [
    "filenames.shape"
   ]
  },
  {
   "cell_type": "code",
   "execution_count": null,
   "metadata": {},
   "outputs": [],
   "source": [
    "quality_df[quality_df['Filename'].str.contains(file_ccf[0][-26:-4])]"
   ]
  },
  {
   "cell_type": "code",
   "execution_count": null,
   "metadata": {},
   "outputs": [],
   "source": [
    "bjd = []"
   ]
  },
  {
   "cell_type": "code",
   "execution_count": null,
   "metadata": {},
   "outputs": [],
   "source": [
    "                df      = quality_df[quality_df['Filename'].str.contains(file_ccf[n][-26:-4])]\n",
    "                bjd     = bjd.append(df['bjd'].values)"
   ]
  },
  {
   "cell_type": "code",
   "execution_count": null,
   "metadata": {},
   "outputs": [],
   "source": [
    "bjd.append(df['bjd'].values)"
   ]
  },
  {
   "cell_type": "code",
   "execution_count": null,
   "metadata": {},
   "outputs": [],
   "source": [
    "bjd, rv, σrv = np.array([]), np.array([]), np.array([])"
   ]
  },
  {
   "cell_type": "code",
   "execution_count": null,
   "metadata": {},
   "outputs": [],
   "source": [
    "                df      = quality_df[quality_df['Filename'].str.contains(file_ccf[n][-26:-4])]\n",
    "                bjd     = np.append(bjd, df['bjd'])"
   ]
  },
  {
   "cell_type": "code",
   "execution_count": null,
   "metadata": {},
   "outputs": [],
   "source": [
    "quality_df  = pd.read_csv('combined_rvs_1.csv')\n",
    "filenames   = [quality_df['Filename'][i][-27:-5] for i in range(len(quality_df))]\n",
    "path_prefix = '/gpfs/group/ebf11/default/pipeline/data/neid_solar/v1.1/outputs/jvz5625/'\n",
    "\n",
    "# parameters \n",
    "start_date  = date(2020, 6, 23)\n",
    "end_date    = date(2020, 6, 24)\n",
    "plot        = False\n",
    "\n",
    "CCF, σ_CCF  = [], []\n",
    "bjd, rv, σrv = np.array([]), np.array([]), np.array([])\n",
    "\n",
    "# start_time  = datetime.now()\n",
    "for single_date in daterange(start_date, end_date):\n",
    "\n",
    "    print(single_date.strftime(\"%Y-%m-%d\"))\n",
    "\n",
    "    path_read   = path_prefix + single_date.strftime('ccf_by_obs_56_108/%m/%d/')\n",
    "    file_ccf    = sorted(glob.glob(path_read + '/*.ccf')) \n",
    "    N_file      = len(file_ccf)\n",
    "\n",
    "    if N_file != 0:\n",
    "        with alive_bar(N_file) as bar:\n",
    "            for n in range(N_file):\n",
    "                ccf_per_obs = np.loadtxt(file_ccf[n])\n",
    "                v_grid      = -100 + np.arange(len(ccf_per_obs))*0.25\n",
    "                idx         = (v_grid>85) & (v_grid<113)\n",
    "                ccf_nor     = ccf_per_obs[idx] / np.median(ccf_per_obs[~idx])\n",
    "                σ_ccf_nor   = ccf_per_obs[idx]**0.5 / np.median(ccf_per_obs[~idx])\n",
    "                # plt.plot(v_grid[idx], ccf_nor)\n",
    "                # plt.show()                \n",
    "                if not np.any(CCF):\n",
    "                    CCF     = ccf_nor\n",
    "                    σ_CCF   = σ_ccf_nor\n",
    "                else:\n",
    "                    CCF     = np.vstack((CCF, ccf_nor)) \n",
    "                    σ_CCF   = np.vstack((σ_CCF, σ_ccf_nor)) \n",
    "\n",
    "                df      = quality_df[quality_df['Filename'].str.contains(file_ccf[n][-26:-4])]\n",
    "                bjd     = np.append(bjd, df['jd_drp'])\n",
    "                rv      = np.append(rv, df['rv_drp'])\n",
    "                σrv     = np.append(σrv, df['σrv_drp'])\n",
    "\n",
    "            bar()"
   ]
  },
  {
   "cell_type": "code",
   "execution_count": null,
   "metadata": {},
   "outputs": [],
   "source": [
    "σrv.shape"
   ]
  },
  {
   "cell_type": "code",
   "execution_count": null,
   "metadata": {},
   "outputs": [],
   "source": [
    "σrv"
   ]
  },
  {
   "cell_type": "code",
   "execution_count": null,
   "metadata": {},
   "outputs": [],
   "source": [
    "CCF.shape"
   ]
  },
  {
   "cell_type": "code",
   "execution_count": null,
   "metadata": {},
   "outputs": [],
   "source": [
    "quality_df  = pd.read_csv('combined_rvs_1.csv')\n",
    "filenames   = [quality_df['Filename'][i][-27:-5] for i in range(len(quality_df))]\n",
    "path_prefix = '/gpfs/group/ebf11/default/pipeline/data/neid_solar/v1.1/outputs/jvz5625/'\n",
    "\n",
    "# parameters \n",
    "start_date  = date(2020, 6, 1)\n",
    "end_date    = date(2020, 6, 10)\n",
    "plot        = False\n",
    "\n",
    "CCF, σ_CCF  = [], []\n",
    "bjd, rv, σrv = np.array([]), np.array([]), np.array([])\n",
    "\n",
    "# start_time  = datetime.now()\n",
    "for single_date in daterange(start_date, end_date):\n",
    "\n",
    "    print(single_date.strftime(\"%Y-%m-%d\"))\n",
    "\n",
    "    path_read   = path_prefix + single_date.strftime('ccf_by_obs_56_108/%m/%d/')\n",
    "    file_ccf    = sorted(glob.glob(path_read + '/*.ccf')) \n",
    "    N_file      = len(file_ccf)\n",
    "\n",
    "    if N_file != 0:\n",
    "        with alive_bar(N_file) as bar:\n",
    "            for n in range(N_file):\n",
    "                ccf_per_obs = np.loadtxt(file_ccf[n])\n",
    "                v_grid      = -100 + np.arange(len(ccf_per_obs))*0.25\n",
    "                idx         = (v_grid>85) & (v_grid<113)\n",
    "                ccf_nor     = ccf_per_obs[idx] / np.median(ccf_per_obs[~idx])\n",
    "                σ_ccf_nor   = ccf_per_obs[idx]**0.5 / np.median(ccf_per_obs[~idx])\n",
    "                # plt.plot(v_grid[idx], ccf_nor)\n",
    "                # plt.show()                \n",
    "                if not np.any(CCF):\n",
    "                    CCF     = ccf_nor\n",
    "                    σ_CCF   = σ_ccf_nor\n",
    "                else:\n",
    "                    CCF     = np.vstack((CCF, ccf_nor)) \n",
    "                    σ_CCF   = np.vstack((σ_CCF, σ_ccf_nor)) \n",
    "\n",
    "                df      = quality_df[quality_df['Filename'].str.contains(file_ccf[n][-26:-4])]\n",
    "                bjd     = np.append(bjd, df['jd_drp'])\n",
    "                rv      = np.append(rv, df['rv_drp'])\n",
    "                σrv     = np.append(σrv, df['σrv_drp'])\n",
    "\n",
    "            bar()"
   ]
  },
  {
   "cell_type": "code",
   "execution_count": null,
   "metadata": {},
   "outputs": [],
   "source": [
    "bjd.shape"
   ]
  },
  {
   "cell_type": "code",
   "execution_count": null,
   "metadata": {},
   "outputs": [],
   "source": [
    "CCF.shape"
   ]
  },
  {
   "cell_type": "code",
   "execution_count": null,
   "metadata": {},
   "outputs": [],
   "source": [
    "df, shift_spectrum, err_shift_spectrum, power_spectrum, err_power_spectrum, RV_gauss = FIESTA(v_grid[idx], CCF.T, σ_CCF.T)"
   ]
  },
  {
   "cell_type": "code",
   "execution_count": null,
   "metadata": {},
   "outputs": [],
   "source": [
    "from FIESTA_functions import *"
   ]
  },
  {
   "cell_type": "code",
   "execution_count": null,
   "metadata": {},
   "outputs": [],
   "source": [
    "v_grid.shape"
   ]
  },
  {
   "cell_type": "code",
   "execution_count": null,
   "metadata": {},
   "outputs": [],
   "source": [
    "plt.plot(v_grid[idx], (1-CCF).T)\n",
    "plt.show()"
   ]
  },
  {
   "cell_type": "code",
   "execution_count": null,
   "metadata": {},
   "outputs": [],
   "source": [
    "df, shift_spectrum, err_shift_spectrum, power_spectrum, err_power_spectrum, RV_gauss = FIESTA(v_grid[idx], (1-CCF).T, σ_CCF.T, k_max = 6)"
   ]
  },
  {
   "cell_type": "code",
   "execution_count": null,
   "metadata": {},
   "outputs": [],
   "source": [
    "from HARPS_N_functions import *"
   ]
  },
  {
   "cell_type": "code",
   "execution_count": null,
   "metadata": {},
   "outputs": [],
   "source": [
    "plt.rcParams.update({'font.size': 12})\n",
    "\n",
    "def time_series(x=bjd_daily, y=power_spectrum, dy=err_power_spectrum, N=None,\n",
    "\t\t\t\tylabel='k=',\n",
    "\t\t\t\ttitle='Time series',\n",
    "\t\t\t\tfile_name='Time_series.png'):\n",
    "\tif N==None:\n",
    "\t\tN = y.shape[1]\n",
    "\tplt.subplots(figsize=(12, N))\n",
    "\n",
    "\tfor i in range(N):\n",
    "\t\tax = plt.subplot(N, 1, i+1)\n",
    "\t\tif i == 0:\n",
    "\t\t\tplt.title(title)\n",
    "\t\tplt.errorbar(x, y[:, i], dy[:, i], marker='.', ls='none', alpha=0.5, ms=5)\n",
    "\t\tplt.ylabel(ylabel+str(i+1))\n",
    "\t\tif i != N-1:\n",
    "\t\t\tax.set_xticks([])\n",
    "\t\telse:\n",
    "\t\t\tplt.xlabel('BJD - 2400000 [d]')\n",
    "\tplt.savefig(file_name)\n",
    "\tplt.show()"
   ]
  },
  {
   "cell_type": "code",
   "execution_count": null,
   "metadata": {},
   "outputs": [],
   "source": [
    "plt.rcParams.update({'font.size': 12})\n",
    "\n",
    "def time_series(x, y, dy, N=None,\n",
    "\t\t\t\tylabel='k=',\n",
    "\t\t\t\ttitle='Time series',\n",
    "\t\t\t\tfile_name='Time_series.png'):\n",
    "\tif N==None:\n",
    "\t\tN = y.shape[1]\n",
    "\tplt.subplots(figsize=(12, N))\n",
    "\n",
    "\tfor i in range(N):\n",
    "\t\tax = plt.subplot(N, 1, i+1)\n",
    "\t\tif i == 0:\n",
    "\t\t\tplt.title(title)\n",
    "\t\tplt.errorbar(x, y[:, i], dy[:, i], marker='.', ls='none', alpha=0.5, ms=5)\n",
    "\t\tplt.ylabel(ylabel+str(i+1))\n",
    "\t\tif i != N-1:\n",
    "\t\t\tax.set_xticks([])\n",
    "\t\telse:\n",
    "\t\t\tplt.xlabel('BJD - 2400000 [d]')\n",
    "\tplt.savefig(file_name)\n",
    "\tplt.show()"
   ]
  },
  {
   "cell_type": "code",
   "execution_count": null,
   "metadata": {},
   "outputs": [],
   "source": [
    "time_series(x=bjd, y=power_spectrum.T, dy=err_power_spectrum.T, N=None,\n",
    "\t\t\t\ttitle='$A_k$ time series',\n",
    "\t\t\t\tfile_name='FIESTA_amplitude_time_series.png')"
   ]
  },
  {
   "cell_type": "code",
   "execution_count": null,
   "metadata": {},
   "outputs": [],
   "source": [
    "bjd.shape"
   ]
  },
  {
   "cell_type": "code",
   "execution_count": null,
   "metadata": {},
   "outputs": [],
   "source": [
    "power_spectrum.shape"
   ]
  },
  {
   "cell_type": "code",
   "execution_count": null,
   "metadata": {},
   "outputs": [],
   "source": [
    "shift_spectrum.shape"
   ]
  },
  {
   "cell_type": "code",
   "execution_count": null,
   "metadata": {},
   "outputs": [],
   "source": []
  }
 ],
 "metadata": {
  "kernelspec": {
   "display_name": "Python 3.10.6 ('tf-gpu')",
   "language": "python",
   "name": "python3"
  },
  "language_info": {
   "codemirror_mode": {
    "name": "ipython",
    "version": 3
   },
   "file_extension": ".py",
   "mimetype": "text/x-python",
   "name": "python",
   "nbconvert_exporter": "python",
   "pygments_lexer": "ipython3",
   "version": "3.10.6"
  },
  "vscode": {
   "interpreter": {
    "hash": "66d10f59868bcf53bf00dc4aa4581df52e98266fd65f82ef6fa4228a20d88713"
   }
  }
 },
 "nbformat": 4,
 "nbformat_minor": 4
}
