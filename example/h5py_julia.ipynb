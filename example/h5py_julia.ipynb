{
 "cells": [
  {
   "cell_type": "code",
   "execution_count": 1,
   "metadata": {},
   "outputs": [],
   "source": [
    "import h5py\n",
    "file = '/gpfs/group/ebf11/default/pipeline/data/neid_solar/v1.1/outputs/ebf11/test1/2021/01/02/daily_ccfs_1.jld2'\n",
    "f = h5py.File(file, \"r\")"
   ]
  },
  {
   "cell_type": "code",
   "execution_count": 2,
   "metadata": {},
   "outputs": [
    {
     "data": {
      "text/plain": [
       "<HDF5 file \"daily_ccfs_1.jld2\" (mode r)>"
      ]
     },
     "execution_count": 2,
     "metadata": {},
     "output_type": "execute_result"
    }
   ],
   "source": [
    "f"
   ]
  },
  {
   "cell_type": "code",
   "execution_count": 5,
   "metadata": {},
   "outputs": [
    {
     "data": {
      "text/plain": [
       "['_types',\n",
       " 'calc_order_ccf_args',\n",
       " 'ccf_line_list',\n",
       " 'clean_obs_mask',\n",
       " 'daily_ccf_filename',\n",
       " 'drpversion',\n",
       " 'file_hashes',\n",
       " 'manifest',\n",
       " 'mean_clean_flux',\n",
       " 'mean_clean_flux_continuum_normalized',\n",
       " 'mean_clean_var',\n",
       " 'mean_clean_var_continuum_normalized',\n",
       " 'mean_lambda',\n",
       " 'normalization_anchors',\n",
       " 'order_ccf_vars',\n",
       " 'order_ccfs',\n",
       " 'orders_to_use',\n",
       " 'start_processing_time',\n",
       " 'stop_processing_time',\n",
       " 'v_grid',\n",
       " 'Δfwhm']"
      ]
     },
     "execution_count": 5,
     "metadata": {},
     "output_type": "execute_result"
    }
   ],
   "source": [
    "list(f.keys())"
   ]
  },
  {
   "cell_type": "code",
   "execution_count": 48,
   "metadata": {},
   "outputs": [
    {
     "name": "stdout",
     "output_type": "stream",
     "text": [
      "_types\n",
      "calc_order_ccf_args\n",
      "ccf_line_list\n",
      "clean_obs_mask\n",
      "daily_ccf_filename\n",
      "drpversion\n",
      "file_hashes\n",
      "manifest\n",
      "mean_clean_flux\n",
      "mean_clean_flux_continuum_normalized\n",
      "mean_clean_var\n",
      "mean_clean_var_continuum_normalized\n",
      "mean_lambda\n",
      "normalization_anchors\n",
      "order_ccf_vars\n",
      "order_ccfs\n",
      "orders_to_use\n",
      "start_processing_time\n",
      "stop_processing_time\n",
      "v_grid\n",
      "Δfwhm\n"
     ]
    }
   ],
   "source": [
    "for key in f.keys():\n",
    "   print(key)"
   ]
  },
  {
   "cell_type": "code",
   "execution_count": 3,
   "metadata": {},
   "outputs": [
    {
     "data": {
      "text/plain": [
       "(139, 53, 823)"
      ]
     },
     "execution_count": 3,
     "metadata": {},
     "output_type": "execute_result"
    }
   ],
   "source": [
    "f['order_ccfs'].shape"
   ]
  },
  {
   "cell_type": "code",
   "execution_count": 4,
   "metadata": {},
   "outputs": [
    {
     "data": {
      "text/plain": [
       "(56, 108)"
      ]
     },
     "execution_count": 4,
     "metadata": {},
     "output_type": "execute_result"
    }
   ],
   "source": [
    "f['orders_to_use'][()]"
   ]
  },
  {
   "cell_type": "code",
   "execution_count": 5,
   "metadata": {},
   "outputs": [
    {
     "data": {
      "text/plain": [
       "((-40., 0.), (150., 0.), 823, 416)"
      ]
     },
     "execution_count": 5,
     "metadata": {},
     "output_type": "execute_result"
    }
   ],
   "source": [
    "f['v_grid'][()]"
   ]
  },
  {
   "cell_type": "code",
   "execution_count": 41,
   "metadata": {},
   "outputs": [
    {
     "data": {
      "text/plain": [
       "array([223.31811813, 223.24155805, 223.1657854 , 223.09036806,\n",
       "       223.01549327, 222.94090683, 222.86730205, 222.79459884,\n",
       "       222.72237517, 222.65053653, 222.57926461, 222.50846486,\n",
       "       222.43853397, 222.36906907, 222.30019982, 222.23205283,\n",
       "       222.16437178, 222.09755481, 222.03169088, 221.96568939,\n",
       "       221.90053018, 221.83625495, 221.77214093, 221.70887539,\n",
       "       221.64623815, 221.58428321, 221.52307726, 221.46244834,\n",
       "       221.40258313, 221.34344535, 221.28520416, 221.22738788,\n",
       "       221.17025497, 221.11368074, 221.05801892, 221.00315679,\n",
       "       220.94876283, 220.89509269, 220.84230503, 220.79011437,\n",
       "       220.73871102, 220.68792367, 220.637791  , 220.58818646,\n",
       "       220.53946039, 220.49155452, 220.44419354, 220.39769698,\n",
       "       220.35197121, 220.30665496, 220.26225774, 220.21851228,\n",
       "       220.17604939, 220.13393029, 220.09280017, 220.05212444,\n",
       "       219.98412571, 219.945708  , 219.90764083, 219.87066403,\n",
       "       219.83437867, 219.79885587, 219.76397292, 219.72989072,\n",
       "       219.69664699, 219.66436385, 219.63264038, 219.60166019,\n",
       "       219.57156141, 219.54229051, 219.51369335, 219.48591455,\n",
       "       219.45893911, 219.43276522, 219.40723435, 219.38256835,\n",
       "       219.35877572, 219.33573821, 219.31356226, 219.29208647,\n",
       "       219.27136307, 219.25152844, 219.23239251, 219.21420501,\n",
       "       219.19665849, 219.18002365, 219.16418783, 219.14913647,\n",
       "       219.13484213, 219.12134689, 219.10871595, 219.09684375,\n",
       "       219.08580237, 219.07550462, 219.06611602, 219.0575041 ,\n",
       "       219.04968414, 219.04264155, 219.03645502, 219.03106158,\n",
       "       219.02648526, 219.02272936, 219.01977352, 219.01763077,\n",
       "       219.01630592, 219.01579298, 219.01609249, 219.01720567,\n",
       "       219.01912693, 219.02186217, 219.02540786, 219.02975113,\n",
       "       219.03492866, 219.04087592, 219.04764694, 219.05525023,\n",
       "       219.06366386, 219.08218486, 219.09299589, 219.10459924,\n",
       "       219.11700989, 219.13023685, 219.1443176 , 219.15921554,\n",
       "       219.17482586, 219.19121266, 219.20842048, 219.22648625,\n",
       "       219.24531879, 219.26499116, 219.28544446, 219.30661948,\n",
       "       219.32863196, 219.35143314, 219.37505448, 219.39941676,\n",
       "       219.42457984, 219.45056247, 219.47753124, 219.50508998,\n",
       "       219.53342605, 219.56267709, 219.59260078, 219.6234358 ,\n",
       "       219.65488101, 219.68711981, 219.72014385, 219.75395834,\n",
       "       219.78869282, 219.82392506, 219.86019209, 219.897108  ,\n",
       "       219.93459459, 219.97295853, 220.01220648, 220.05206918,\n",
       "       220.09257414, 220.13419805, 220.17615914, 220.21918183,\n",
       "       220.26287018, 220.30748643, 220.35272233, 220.39866555,\n",
       "       220.44541344, 220.49300458, 220.54126049, 220.59004093,\n",
       "       220.63985546, 220.69016511, 220.74157481, 220.79342824,\n",
       "       220.84643872, 221.91912675, 221.98519321, 222.05165185,\n",
       "       222.11872653, 222.18653876, 222.25448176, 222.32357592,\n",
       "       222.39346002, 222.4637707 , 222.53492342, 222.60639125,\n",
       "       222.67859296, 222.75131397, 222.82463072, 222.89886767,\n",
       "       222.97356147, 223.04891306, 223.12493038, 223.20143661,\n",
       "       223.2786099 , 223.35647708, 223.4346614 , 223.51384293,\n",
       "       223.59304389, 223.67290877, 223.75354269, 223.83464854,\n",
       "       223.91602198, 223.99841308, 224.08127842, 224.16444135])"
      ]
     },
     "execution_count": 41,
     "metadata": {},
     "output_type": "execute_result"
    }
   ],
   "source": [
    "f['Δfwhm'][()]"
   ]
  },
  {
   "cell_type": "code",
   "execution_count": 26,
   "metadata": {},
   "outputs": [
    {
     "data": {
      "text/plain": [
       "(204, 53, 823)"
      ]
     },
     "execution_count": 26,
     "metadata": {},
     "output_type": "execute_result"
    }
   ],
   "source": [
    "f['order_ccfs'].shape"
   ]
  },
  {
   "cell_type": "code",
   "execution_count": null,
   "metadata": {},
   "outputs": [],
   "source": []
  }
 ],
 "metadata": {
  "kernelspec": {
   "display_name": "Python 3 (ipykernel)",
   "language": "python",
   "name": "python3"
  },
  "language_info": {
   "codemirror_mode": {
    "name": "ipython",
    "version": 3
   },
   "file_extension": ".py",
   "mimetype": "text/x-python",
   "name": "python",
   "nbconvert_exporter": "python",
   "pygments_lexer": "ipython3",
   "version": "3.10.6"
  }
 },
 "nbformat": 4,
 "nbformat_minor": 4
}
